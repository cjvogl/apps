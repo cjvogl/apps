{
 "cells": [
  {
   "cell_type": "markdown",
   "metadata": {},
   "source": [
    "# Riemann solver tester\n"
   ]
  },
  {
   "cell_type": "code",
   "execution_count": null,
   "metadata": {
    "collapsed": false
   },
   "outputs": [],
   "source": [
    "%matplotlib inline\n",
    "import matplotlib.pyplot as plt\n",
    "import numpy as np\n",
    "#from ipywidgets import StaticInteract, RangeWidget\n",
    "from ipywidgets import interact, interact_manual\n",
    "import ipywidgets\n",
    "from IPython.display import FileLink\n",
    "from clawpack import riemann"
   ]
  },
  {
   "cell_type": "markdown",
   "metadata": {},
   "source": [
    "The next cell imports a module containing a function that takes a Riemann problem (left state, right state, and approximate solver), and computes the Riemann solution, as well as functions to plot the solution in various forms."
   ]
  },
  {
   "cell_type": "code",
   "execution_count": null,
   "metadata": {
    "collapsed": false
   },
   "outputs": [],
   "source": [
    "from clawpack.riemann import riemann_tools"
   ]
  },
  {
   "cell_type": "markdown",
   "metadata": {},
   "source": [
    "# Acoustics: exact solution\n",
    "We can use this to examine the exact solution of an acoustics Riemann problem.\n",
    "\n",
    "This is a linear hyperbolic system of two equations for $q = [p, u]^T$, where $p$ is the pressure perturbation and $u$ is the velocity.  The system is $q_t + Aq_x = 0$, where the coefficient matrix is\n",
    "\n",
    "$$\n",
    "A = \\left[\\begin{array}{cc}0&K\\\\1/\\rho&0\\end{array}\\right], \n",
    "$$\n",
    "\n",
    "where $\\rho$ is the density and $K$ the bulk modulus.  If we define the sound speed $c = \\sqrt{K/\\rho}$ and impedance $Z=\\sqrt{K\\rho}$, then the eigenvalues of the matrix are $s^1 = -c$ and $s^2 = +c$ and the corresponding eigenvectors are\n",
    "$$\n",
    "r^1 = \\left[\\begin{array}{c}-Z\\\\1\\end{array}\\right], \\qquad r^2 = \\left[\\begin{array}{c}Z\\\\1\\end{array}\\right].\n",
    "$$\n",
    "\n",
    "For arbitrary states $q_\\ell$ and $q_r$, the Riemann solution consists of two waves propagating with velocities $\\pm c$ with an intermediate state $q_m$ that is connected to $q_\\ell$ by a multiple of $r^1$ and to $q_r$ by a multiple of $r^2$.\n",
    "\n",
    "This Riemann solver can be solved by the PyClaw solver `riemann.acoustics_1D_py.acoustics_1D`:"
   ]
  },
  {
   "cell_type": "code",
   "execution_count": null,
   "metadata": {
    "collapsed": false
   },
   "outputs": [],
   "source": [
    "solver = riemann.acoustics_1D_py.acoustics_1D\n",
    "num_eqn = riemann.acoustics_1D_py.num_eqn\n",
    "\n",
    "q_l = np.array((1,4))\n",
    "q_r = np.array((3,7))\n",
    "\n",
    "problem_data = {}\n",
    "problem_data['zz'] = 2.0  # impedance \n",
    "problem_data['cc'] = 1.0  # sound speed\n",
    "\n",
    "states, s, riemann_eval = riemann_tools.riemann_solution(solver,q_l,q_r,problem_data=problem_data)\n",
    "riemann_tools.plot_phase(states)"
   ]
  },
  {
   "cell_type": "markdown",
   "metadata": {},
   "source": [
    "Plot the solution at one particular time:"
   ]
  },
  {
   "cell_type": "code",
   "execution_count": null,
   "metadata": {
    "collapsed": false
   },
   "outputs": [],
   "source": [
    "fig = riemann_tools.plot_riemann(states,s,riemann_eval,0.5)"
   ]
  },
  {
   "cell_type": "markdown",
   "metadata": {},
   "source": [
    "Plot over a range of times with a slider to control t:"
   ]
  },
  {
   "cell_type": "code",
   "execution_count": null,
   "metadata": {
    "collapsed": false
   },
   "outputs": [],
   "source": [
    "plot_function = riemann_tools.make_plot_function(states,s,riemann_eval)\n",
    "widget = ipywidgets.IntSlider(min=0,max=len(figs)-1, value=0)\n",
    "StaticInteract(plot_function, t=RangeWidget(0,.9,.1))"
   ]
  },
  {
   "cell_type": "markdown",
   "metadata": {},
   "source": [
    "# Euler equations: exact solution\n",
    "\n",
    "We can compute the exact solution to the Riemann problem for the Euler equations."
   ]
  },
  {
   "cell_type": "code",
   "execution_count": null,
   "metadata": {
    "collapsed": false
   },
   "outputs": [],
   "source": [
    "import Euler_exact_Riemann_solver\n",
    "FileLink('Euler_exact_Riemann_solver.py')  # Link to examine the exact Riemann solver"
   ]
  },
  {
   "cell_type": "code",
   "execution_count": null,
   "metadata": {
    "collapsed": false
   },
   "outputs": [],
   "source": [
    "gamma = 1.4\n",
    "\n",
    "q_l = np.array((3.,-0.5,2.))\n",
    "q_r = np.array((1.,0.,1.))\n",
    "\n",
    "ex_states, ex_speeds, reval = Euler_exact_Riemann_solver.exact_riemann_solution(q_l ,q_r, gamma)\n",
    "\n",
    "plot_function = riemann_tools.make_plot_function(ex_states, ex_speeds, reval)\n",
    "StaticInteract(plot_function, t=RangeWidget(0,.9,.1))"
   ]
  },
  {
   "cell_type": "markdown",
   "metadata": {},
   "source": [
    "# Euler: approximate solutions\n",
    "We can also easily compare the approximate solutions given by, say, a Roe solver and an HLLE solver for the Euler equations.\n",
    "\n",
    "## Roe solver:"
   ]
  },
  {
   "cell_type": "code",
   "execution_count": null,
   "metadata": {
    "collapsed": false
   },
   "outputs": [],
   "source": [
    "solver = riemann.euler_1D_py.euler_roe_1D\n",
    "num_eqn = riemann.euler_1D_py.num_eqn\n",
    "\n",
    "problem_data = {}\n",
    "problem_data['gamma'] = gamma\n",
    "problem_data['gamma1'] = gamma - 1.0\n",
    "problem_data['efix'] = False\n",
    "\n",
    "print \"Roe solver solution to Euler equations:\"\n",
    "states, s, roe_eval = riemann_tools.riemann_solution(num_eqn,solver,q_l,q_r,problem_data=problem_data)\n",
    "fig, ax = plt.subplots(1,2,figsize=(10,4))\n",
    "riemann_tools.plot_phase(states,0,1,ax[0])\n",
    "riemann_tools.plot_phase(states,0,2,ax[1])\n",
    "riemann_tools.plot_phase_3d(states)"
   ]
  },
  {
   "cell_type": "code",
   "execution_count": null,
   "metadata": {
    "collapsed": false
   },
   "outputs": [],
   "source": [
    "plot_function = riemann_tools.make_plot_function(states,s,roe_eval)\n",
    "StaticInteract(plot_function, t=RangeWidget(0,.9,.1))"
   ]
  },
  {
   "cell_type": "markdown",
   "metadata": {},
   "source": [
    "## HLLE Solver:\n",
    "\n",
    "The HLLE solver uses only two waves with a constant state between that is uniquely defined by conservation for any choice of the two wave speeds.  The left-going wave speed is chosen to be the minimum of the Roe speed for the 1-wave and the characterstic speed $\\lambda^1$ in the left state $q_\\ell$.  The right-going wave speed is chosen to be the maximum of the Roe speed for the 3-wave and the characterstic speed $\\lambda^3$ in the right state $q_r$."
   ]
  },
  {
   "cell_type": "code",
   "execution_count": null,
   "metadata": {
    "collapsed": false
   },
   "outputs": [],
   "source": [
    "solver = riemann.euler_1D_py.euler_hll_1D\n",
    "print \"HLL solver solution to Euler equations:\"\n",
    "states_hll, s_hll, hll_eval = riemann_tools.riemann_solution(num_eqn,solver,q_l,q_r,problem_data=problem_data)\n",
    "fig, ax = plt.subplots(1,2,figsize=(10,4))\n",
    "riemann_tools.plot_phase(states_hll,0,1,ax[0])\n",
    "riemann_tools.plot_phase(states_hll,0,2,ax[1])\n",
    "riemann_tools.plot_phase_3d(states_hll)"
   ]
  },
  {
   "cell_type": "code",
   "execution_count": null,
   "metadata": {
    "collapsed": false
   },
   "outputs": [],
   "source": [
    "plot_function = riemann_tools.make_plot_function(states_hll,s_hll, hll_eval)\n",
    "StaticInteract(plot_function, t=RangeWidget(0,.9,.1))"
   ]
  },
  {
   "cell_type": "markdown",
   "metadata": {},
   "source": [
    "## Compare the two approximate solvers:\n",
    "\n",
    "In the plots below, red is the Roe solution, blue is the HLLE solution."
   ]
  },
  {
   "cell_type": "code",
   "execution_count": null,
   "metadata": {
    "collapsed": false
   },
   "outputs": [],
   "source": [
    "plot_function = riemann_tools.make_plot_function([states_hll,states],[s_hll,s],[hll_eval,roe_eval])\n",
    "StaticInteract(plot_function, t=RangeWidget(0,.9,.1))"
   ]
  },
  {
   "cell_type": "markdown",
   "metadata": {},
   "source": [
    "### Compare with the exact solution"
   ]
  },
  {
   "cell_type": "code",
   "execution_count": null,
   "metadata": {
    "collapsed": false
   },
   "outputs": [],
   "source": [
    "plot_function = riemann_tools.make_plot_function([ex_states,states_hll,states],\n",
    "                                                 [ex_speeds,s_hll,s],\n",
    "                                                 [reval,hll_eval,roe_eval],\n",
    "                                                 ['Exact','HLLE','Roe'])\n",
    "StaticInteract(plot_function, t=RangeWidget(0,.9,.1))"
   ]
  }
 ],
 "metadata": {
  "kernelspec": {
   "display_name": "Python 2",
   "language": "python",
   "name": "python2"
  },
  "language_info": {
   "codemirror_mode": {
    "name": "ipython",
    "version": 2
   },
   "file_extension": ".py",
   "mimetype": "text/x-python",
   "name": "python",
   "nbconvert_exporter": "python",
   "pygments_lexer": "ipython2",
   "version": "2.7.12"
  }
 },
 "nbformat": 4,
 "nbformat_minor": 0
}
